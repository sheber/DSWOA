{
 "cells": [
  {
   "cell_type": "markdown",
   "metadata": {},
   "source": [
    "# Discrete Spiral Whale Optimization Algorithm<br />for the Traveling Salesperson Problem\n",
    "**Elias Rotondo** <br />\n",
    "*Manning College of Information and Computer Sciences, University of Massachusetts Amherst*\n",
    "<br />\n",
    "**Steffen Heber** <br />\n",
    "*Department of Computer Science, North Carolina State University*"
   ]
  },
  {
   "cell_type": "markdown",
   "metadata": {},
   "source": [
    "This notebook contains the original code for the discrete spiral whale optimization algorithm (DSWOA) for the traveling salesperson problem (TSP). All code is written in the Julia programming language (we ran it in version 1.4.2). The whale optimization algorithm is a metaheuristic inspired by the hunting strategy of humpback whales \\[1\\]. In order to explore the TSP discete space, our approach utilizes a sequential consecutive crossover and spiral 3-opt search, a modified version of the popular 3-opt local search. Please refer to our paper published in the ISMSI '22 conference proceedings for more details: \\[pending publication later this year, will be updated with DOI once it becomes available\\]\n",
    "<br /> <br />\n",
    "\\[1\\] Seyedali Mirjalili and Andrew Lewis. 2016. The whale optimization algorithm. Advances in engineering software 95 (2016), 51–67."
   ]
  },
  {
   "cell_type": "code",
   "execution_count": 1,
   "metadata": {},
   "outputs": [],
   "source": [
    "# Libraries used in this notebook\n",
    "using Plots\n",
    "using Statistics\n",
    "using Distances\n",
    "using Random\n",
    "using Luxor\n",
    "using DataStructures\n",
    "using TSPLIB\n",
    "using Test\n",
    "using Printf"
   ]
  },
  {
   "cell_type": "markdown",
   "metadata": {},
   "source": [
    "Sequential Constructive Crossover (SCX) <br /> <br />\n",
    "Zakir H Ahmed. 2010. Genetic algorithm for the traveling salesman problem using sequential constructive crossover operator. International Journal of Biometrics & Bioinformatics (IJBB) 3, 6 (2010), 96."
   ]
  },
  {
   "cell_type": "code",
   "execution_count": 2,
   "metadata": {},
   "outputs": [
    {
     "data": {
      "text/plain": [
       "SCX (generic function with 1 method)"
      ]
     },
     "execution_count": 2,
     "metadata": {},
     "output_type": "execute_result"
    }
   ],
   "source": [
    "# parentOne: First parent\n",
    "# parentTwo: Second parent\n",
    "# dist: TSP instance distance matrix\n",
    "function SCX(parentOne::Array{Int64,1}, parentTwo::Array{Int64,1}, dist)\n",
    "    # Initial Setup\n",
    "    child = zeros(Int64, length(parentOne))\n",
    "    # Flag array: 0 = index not present in child, 1 = index present in child\n",
    "    usedVal = zeros(Int64, length(parentOne))\n",
    "    child[1] = parentOne[1]\n",
    "    usedVal[child[1]] = 1\n",
    "    \n",
    "    # Create the child permutation from the two parents\n",
    "    for i in 1:1:(length(child)-1)\n",
    "        curNodeVal = child[i]\n",
    "        parentOneNext = 0\n",
    "        parentTwoNext = 0\n",
    "        \n",
    "        # Identify the 'Legitimate' nodes after current one\n",
    "        parentOneNext = (findall(x->x==curNodeVal, parentOne)[1])\n",
    "        if (parentOneNext != length(child) && usedVal[parentOne[parentOneNext+1]] == 0)\n",
    "            parentOneNext = parentOne[parentOneNext+1]\n",
    "        else\n",
    "            for j in 1:1:length(child)\n",
    "                if (usedVal[j] == 0)\n",
    "                    parentOneNext = j\n",
    "                    break\n",
    "                end\n",
    "            end\n",
    "        end\n",
    "        parentTwoNext = (findall(x->x==curNodeVal, parentTwo)[1])\n",
    "        if (parentTwoNext != length(child) && usedVal[parentTwo[parentTwoNext+1]] == 0)\n",
    "            parentTwoNext = parentTwo[parentTwoNext+1]\n",
    "        else\n",
    "            for j in 1:1:length(child)\n",
    "                if (usedVal[j] == 0)\n",
    "                    parentTwoNext = j\n",
    "                    break\n",
    "                end\n",
    "            end\n",
    "        end\n",
    "        \n",
    "        # Select best 'Legitimate' node and add it to the next available child cell\n",
    "        if (dist[curNodeVal, parentOneNext] < dist[curNodeVal, parentTwoNext])\n",
    "            child[i+1] = parentOneNext\n",
    "            usedVal[parentOneNext] = 1\n",
    "        else\n",
    "            child[i+1] = parentTwoNext\n",
    "            usedVal[parentTwoNext] = 1\n",
    "        end\n",
    "    end\n",
    "    \n",
    "    # Rotate child so that the first element is equal to the first element of parentOne. Then return\n",
    "    ind = findfirst(isequal(parentOne[1]), child)\n",
    "    return circshift(child, -(ind-1))\n",
    "end"
   ]
  },
  {
   "cell_type": "markdown",
   "metadata": {},
   "source": [
    "Spiral 3-Opt"
   ]
  },
  {
   "cell_type": "code",
   "execution_count": 3,
   "metadata": {},
   "outputs": [
    {
     "data": {
      "text/plain": [
       "threeOptSpiral (generic function with 1 method)"
      ]
     },
     "execution_count": 3,
     "metadata": {},
     "output_type": "execute_result"
    }
   ],
   "source": [
    "# calcTourCostChange: Helper function to calculate change in tour cost after one possible 3-opt swap.\n",
    "# The returned value is equal to the difference between the removed edge tour costs and the added edge tour costs.\n",
    "# A larger returned value translates to a greater improvement resulting from the edge swaps.\n",
    "\n",
    "# tour: A agent tour\n",
    "# dist: TSP instance distance matrix\n",
    "# case: Indicator variable for determining what potenial edge swap sequence to evaluate\n",
    "# i, j, k: Current tour indices being used as reference points for edge swaps\n",
    "function calcTourCostChange(tour, dist, case, i, j, k)\n",
    "    # Tour: [...X...Y...Z...] = [...A-B...C-D...E-F...]\n",
    "    A, B, C, D, E, F = tour[(i == 1 ? length(tour) : i-1)], tour[i], tour[j - 1], tour[j], tour[k - 1], tour[k]\n",
    "    # [Segment]' that specific segment has been reversed\n",
    "    #if case == 1\n",
    "    #    # first case is the current solution XYZ\n",
    "    #    return 0\n",
    "    if case == 2\n",
    "        # X'YZ\n",
    "        return dist[A, B] + dist[E, F] - (dist[B, F] + dist[A, E])\n",
    "    elseif case == 3\n",
    "        # XYZ'\n",
    "        return dist[C, D] + dist[E, F] - (dist[D, F] + dist[C, E])\n",
    "    elseif case == 4\n",
    "        # X'YZ'\n",
    "        return dist[A, B] + dist[C, D] + dist[E, F] - (dist[A, D] + dist[B, F] + dist[E, C])\n",
    "    elseif case == 5\n",
    "        # X'Y'Z\n",
    "        return dist[A, B] + dist[C, D] + dist[E, F] - (dist[C, F] + dist[B, D] + dist[E, A])\n",
    "    elseif case == 6\n",
    "        # XY'Z\n",
    "        return dist[A, B] + dist[C, D] - (dist[A, C] + dist[B, D])\n",
    "    elseif case == 7\n",
    "        # XY'Z'\n",
    "        return dist[A, B] + dist[C, D] + dist[E, F] - (dist[B, E] + dist[D, F] + dist[C, A])\n",
    "    elseif case == 8\n",
    "        # X'Y'Z'\n",
    "        return dist[A, B] + dist[C, D] + dist[E, F] - (dist[A, D] + dist[C, F] + dist[B, E])\n",
    "    end\n",
    "end\n",
    "\n",
    "# createNewPath: Helper function to apply edge swaps once all potential combinations have been evaluated.\n",
    "# Returns a new tour with the desired edge swaps having been applied to the original tour.\n",
    "\n",
    "# tour: An agent tour\n",
    "# case: Indicator variable for determining what potenial edge swap sequence to evaluate\n",
    "# i, j, k: Current tour indices being used as reference points for edge swaps\n",
    "function createNewPath(tour, case, i, j, k)\n",
    "    if case == 1\n",
    "        # first case is the current solution XYZ\n",
    "        return copy(tour)\n",
    "    end\n",
    "    \n",
    "    # Separate the tour into three disjoint segments\n",
    "    firstSegment = []\n",
    "    if (i < k)\n",
    "        firstSegment = [tour[k:length(tour)]; tour[1:i-1]]\n",
    "    else\n",
    "        firstSegment = tour[k:i-1]\n",
    "    end\n",
    "    secondSegment = tour[i:j-1]\n",
    "    thirdSegment = tour[j:k-1]\n",
    "    \n",
    "    if (length(firstSegment) + length(secondSegment) + length(thirdSegment) != length(tour))\n",
    "        println(\"An error has occurred while separating a tour into three disjoint paths\")\n",
    "    end\n",
    "\n",
    "    # Apply the edge swaps and return the desired tour\n",
    "    if case == 2\n",
    "        # X'YZ\n",
    "        return [reverse(firstSegment); secondSegment; thirdSegment]\n",
    "    elseif case == 3\n",
    "        # XYZ'\n",
    "        return [firstSegment; secondSegment; reverse(thirdSegment)]\n",
    "    elseif case == 4\n",
    "        # X'YZ'\n",
    "        return [reverse(firstSegment); secondSegment; reverse(thirdSegment)]\n",
    "    elseif case == 5\n",
    "        # X'Y'Z\n",
    "        return [reverse(firstSegment); reverse(secondSegment); thirdSegment]\n",
    "    elseif case == 6\n",
    "        # XY'Z\n",
    "        return [firstSegment; reverse(secondSegment); thirdSegment]\n",
    "    elseif case == 7\n",
    "        # XY'Z'\n",
    "        return [firstSegment; reverse(secondSegment); reverse(thirdSegment)]\n",
    "    elseif case == 8\n",
    "        # X'Y'Z'\n",
    "        return [reverse(firstSegment); reverse(secondSegment); reverse(thirdSegment)]\n",
    "    end\n",
    "end\n",
    "\n",
    "# threeOptSpiral: Main spiral 3-opt function.\n",
    "# Returns the newly created tour after applying the best edge swaps.\n",
    "\n",
    "# tour: An agent tour\n",
    "# dist: TSP instance distance matrix\n",
    "# proportionFactor: Maximum proportion of the tour to consider (used to define the window)\n",
    "function threeOptSpiral(tour, dist, proportionFactor)\n",
    "    # Select the endpoints for the window by randomly choosing two points within the maximum proportion segment\n",
    "    from, to = rand(1:ceil(Int64, length(tour)*proportionFactor), 2)\n",
    "    from, to = from > to ? (to, from) : (from, to)\n",
    "    improvements = PriorityQueue()\n",
    "    \n",
    "    # Within the window, evaluate all possible 3-opt edge swap combinations\n",
    "    for i in from:to-1 \n",
    "        for j in i+2:to-1\n",
    "            for k in j+2:(to-1+(i>1))\n",
    "                for l in 2:8 # case\n",
    "                    # Compute the difference in tour cost after applying the current case l using reference\n",
    "                    # indices i, j, and k\n",
    "                    changeCost = calcTourCostChange(tour, dist, l, i, j, k)\n",
    "                    # If an improvement results from the current edge swap sequence, add the combination\n",
    "                    # to the priority queue of potential improvements\n",
    "                    if (changeCost > 0)\n",
    "                        enqueue!(improvements, (l, tour[i], tour[j], tour[k])=>(-changeCost))\n",
    "                    end\n",
    "                end\n",
    "            end\n",
    "        end\n",
    "    end\n",
    "\n",
    "    # Attempt to apply as many 3-opt edge swap improvements to the current tour as possible\n",
    "    # At a minimum, the single best 3-opt edge swap sequence will be applied to the current tour\n",
    "    updatedTour = copy(tour)\n",
    "    while (length(improvements) > 0)\n",
    "        # Identify the indices of vertices iVal, jVal, and kVal\n",
    "        case, iVal, jVal, kVal = dequeue!(improvements)\n",
    "        i = findall(x->x==iVal, updatedTour)[1]\n",
    "        j = findall(x->x==jVal, updatedTour)[1]\n",
    "        k = findall(x->x==kVal, updatedTour)[1]\n",
    "        \n",
    "        # Check whether or not the potential improvement is still valid given the current index locations\n",
    "        # This is relevant when trying to apply as many disjoint improvements as possible.\n",
    "        flag = false # Does the tour need to be reversed so that i, j, and k are in their original order?\n",
    "        if (!(i < j && j < k))\n",
    "            if (k < j && j < i)\n",
    "                flag = true\n",
    "                updatedTour = reverse(updatedTour)\n",
    "                i = length(updatedTour) - i + 1\n",
    "                j = length(updatedTour) - j + 1\n",
    "                k = length(updatedTour) - k + 1\n",
    "            else\n",
    "                continue\n",
    "            end\n",
    "        end\n",
    "        \n",
    "        # Verify that the 3-opt edge swap combination still yields an improved tour cost\n",
    "        if (calcTourCostChange(updatedTour, dist, case, i, j, k) > 0)\n",
    "            # Apply the 3-opt edge swap combination to the current tour\n",
    "            updatedTour = createNewPath(updatedTour, case, i, j, k)\n",
    "        end\n",
    "        \n",
    "        # If the tour was reversed earlier, undo the reverse\n",
    "        if (flag)\n",
    "            updatedTour = reverse(updatedTour)\n",
    "        end\n",
    "    end\n",
    "    \n",
    "    # After all disjoint 3-opt edge swap combinations have been applied to the original tour,\n",
    "    # return the newly updated tour to update the current search agent\n",
    "    return updatedTour\n",
    "end"
   ]
  },
  {
   "cell_type": "markdown",
   "metadata": {},
   "source": [
    "Fitness Score Function (Calculate Tour Cost)"
   ]
  },
  {
   "cell_type": "code",
   "execution_count": 4,
   "metadata": {},
   "outputs": [
    {
     "data": {
      "text/plain": [
       "tourCost (generic function with 1 method)"
      ]
     },
     "execution_count": 4,
     "metadata": {},
     "output_type": "execute_result"
    }
   ],
   "source": [
    "# tour: An agent's tour\n",
    "# dist: TSP instance distance matrix\n",
    "function tourCost(tour::Array{Int64,1}, dist::Array{Float64,2})\n",
    "    n=length(tour)\n",
    "    result = dist[tour[n],tour[1]]\n",
    "    for i in 1:(n-1)\n",
    "        result += dist[tour[i],tour[i+1]]\n",
    "    end\n",
    "    return result # total tour cost\n",
    "end"
   ]
  },
  {
   "cell_type": "markdown",
   "metadata": {},
   "source": [
    "Population Initialization"
   ]
  },
  {
   "cell_type": "code",
   "execution_count": 5,
   "metadata": {},
   "outputs": [
    {
     "data": {
      "text/plain": [
       "initialization (generic function with 1 method)"
      ]
     },
     "execution_count": 5,
     "metadata": {},
     "output_type": "execute_result"
    }
   ],
   "source": [
    "# searchAgentNum: Number of search agents within the population\n",
    "# tourLength: Number of cities/vertices in the current TSP\n",
    "function initialization(searchAgentNum::Int, tourLength)\n",
    "    cities = collect(1:tourLength)\n",
    "    whales = zeros(Int64, searchAgentNum, tourLength)\n",
    "    \n",
    "    # Assign random permutations to the initial population\n",
    "    for i in 1:searchAgentNum\n",
    "        whales[i,:] = shuffle(copy(cities))\n",
    "    end\n",
    "    \n",
    "    return whales # initial search agent population\n",
    "end"
   ]
  },
  {
   "cell_type": "markdown",
   "metadata": {},
   "source": [
    "Agent Similarity Checker"
   ]
  },
  {
   "cell_type": "code",
   "execution_count": 6,
   "metadata": {},
   "outputs": [
    {
     "data": {
      "text/plain": [
       "agentSimilarity (generic function with 1 method)"
      ]
     },
     "execution_count": 6,
     "metadata": {},
     "output_type": "execute_result"
    }
   ],
   "source": [
    "# agent: A single search agent permutation\n",
    "# allAgents: Current set of search agent permutations\n",
    "function agentSimilarity(agent::Array{Int64,1}, allAgents::Set{})\n",
    "    # If the agent is not already in the set of agents, add it.\n",
    "    if(!(agent in allAgents))\n",
    "        push!(allAgents, agent)\n",
    "        return agent, allAgents # original permutation and current set of unique agents\n",
    "    # Else, generate random agent.\n",
    "    else\n",
    "        agent = shuffle(agent) # randomize the agent's permutation\n",
    "        push!(allAgents, agent)\n",
    "        return agent, allAgents # randomized permutation and current set of unique agents\n",
    "    end\n",
    "end"
   ]
  },
  {
   "cell_type": "markdown",
   "metadata": {},
   "source": [
    "Retrieve a TSPLIB Tour Info\n",
    "\n",
    "Gerhard Reinelt. 1991. TSPLIB—A traveling salesman problem library. ORSA journal on computing 3, 4 (1991), 376–384. "
   ]
  },
  {
   "cell_type": "code",
   "execution_count": 7,
   "metadata": {},
   "outputs": [
    {
     "data": {
      "text/plain": [
       "getTSPTour (generic function with 1 method)"
      ]
     },
     "execution_count": 7,
     "metadata": {},
     "output_type": "execute_result"
    }
   ],
   "source": [
    "# tourName: String variable containing the name of the desired TSP instance\n",
    "function getTSPTour(tourName)\n",
    "    return readTSP(joinpath(TSPLIB95_path,string(tourName)*\".tsp\"))\n",
    "end"
   ]
  },
  {
   "cell_type": "markdown",
   "metadata": {},
   "source": [
    "Retrieve algorithm parameters"
   ]
  },
  {
   "cell_type": "code",
   "execution_count": 8,
   "metadata": {},
   "outputs": [
    {
     "data": {
      "text/plain": [
       "getParameters (generic function with 1 method)"
      ]
     },
     "execution_count": 8,
     "metadata": {},
     "output_type": "execute_result"
    }
   ],
   "source": [
    "# tourObject: A tour object instance\n",
    "function getParameters(tourObject)\n",
    "    searchAgentNum = 50\n",
    "    maxIteration = 1000\n",
    "    return (searchAgentNum, maxIteration, tourObject.weights) # Number of agents, max iterations count, distance matrix\n",
    "end"
   ]
  },
  {
   "cell_type": "markdown",
   "metadata": {},
   "source": [
    "DSWOA"
   ]
  },
  {
   "cell_type": "code",
   "execution_count": 9,
   "metadata": {},
   "outputs": [
    {
     "data": {
      "text/plain": [
       "DSWOA (generic function with 1 method)"
      ]
     },
     "execution_count": 9,
     "metadata": {},
     "output_type": "execute_result"
    }
   ],
   "source": [
    "# searchAgentNum: Number of search agents within the population\n",
    "# maxIteration: Maximum number of iterations to be performed (if stop criteria is not met sooner)\n",
    "# dist: TSP instance distance matrix\n",
    "function DSWOA(searchAgentNum, maxIteration, dist)    \n",
    "    # Initialize position vector and score for the leader (best solution)\n",
    "    leaderWhale = zeros(Int64, size(dist,1))\n",
    "    leaderScore = Inf\n",
    "    allAgents = Set{Array{Int64,1}}() # Used for tracking number of unique agents\n",
    "    \n",
    "    # OPTIONAL: Initialize Alternative Stopping Criteria\n",
    "    #noChangeAfterXIter = size(dist,1) + ((size(dist,1)*(size(dist,1)+1))/2) # n + \\Sum_{k=1}^n k\n",
    "    #noChangeIter = 0\n",
    "\n",
    "    whales = initialization(searchAgentNum, size(dist,1)) # Initialize the positions of search agents\n",
    "    convergenceCurve=zeros(1, maxIteration) # Used to record the leader's tour cost after each iteration\n",
    "    earlyStop = false # Used if an alternative stopping criteria besides max interation count is implemented\n",
    "    \n",
    "    # Rotation Constant\n",
    "    rotateRate = ceil(Int64, size(dist,1)/20) # Default = 1/20 * Number of vertices within the TSP instance\n",
    "    \n",
    "    # Initial Population Evaluation\n",
    "    for i=1:size(whales,1) # Num of Search Agents\n",
    "        # Calculate objective function for each search agent\n",
    "        fitness=tourCost(whales[i,:], dist)\n",
    "\n",
    "        # Update the leader\n",
    "        if fitness < leaderScore # Change to > if maximization\n",
    "            leaderScore = fitness\n",
    "            leaderWhale = whales[i,:]                                                                      \n",
    "        end\n",
    "    end\n",
    "\n",
    "    # Loop Counter                                                                                                \n",
    "    t = 0\n",
    "\n",
    "    while t < maxIteration\n",
    "        curBest = leaderScore\n",
    "        \n",
    "        # Linearly decreasing a from 2 to 0\n",
    "        a = 2-t*(2.0/maxIteration)\n",
    "        # 0.1 to 1\n",
    "        proportionFactor = 1 - (0.45*a)\n",
    "\n",
    "        # Update the Position of search agents\n",
    "        for i=1:size(whales,1) # Num of Search Agents                                                                             \n",
    "            r = rand()\n",
    "            A = 2*a*r-a   \n",
    "\n",
    "            p = rand()                                                                                          \n",
    "\n",
    "            if p<0.5\n",
    "                if abs(A)>=1 # Search for Prey\n",
    "                    # Second parent = random agent\n",
    "                    whales[i,:] = SCX(whales[i,:], whales[floor(Int64, searchAgentNum*rand()+1),:], dist)\n",
    "                elseif abs(A)<1 # Encircling Prey\n",
    "                    # Second parent = leader\n",
    "                    whales[i,:] = SCX(whales[i,:], leaderWhale, dist)\n",
    "                end\n",
    "            elseif p>=0.5 # Spiral updating Postion\n",
    "                whales[i,:] = circshift(whales[i,:], rotateRate) # First rotate the agent's tour\n",
    "                whales[i,:] = threeOptSpiral(whales[i,:], dist, proportionFactor)\n",
    "            end\n",
    "            \n",
    "            # Remove duplicate agent tours from the population\n",
    "            whales[i,:], allAgents = agentSimilarity(whales[i,:], allAgents)\n",
    "            push!(allAgents, whales[i,:])\n",
    "        end\n",
    "        \n",
    "        # Update best tour\n",
    "        for i=1:size(whales,1) # Number of Search Agents\n",
    "            # Calculate objective function for each search agent\n",
    "            fitness=tourCost(whales[i,:], dist)\n",
    "\n",
    "            # Update the leader\n",
    "            if fitness < leaderScore # Change to > if maximization\n",
    "                leaderScore = fitness\n",
    "                leaderWhale = copy(whales[i,:])\n",
    "                noChangeIter = 0\n",
    "            end\n",
    "        end\n",
    "        \n",
    "        #if (curBest == leaderScore)\n",
    "        #    noChangeIter+=1\n",
    "        #end\n",
    "        \n",
    "        # Reset\n",
    "        allAgents = Set{Array{Int64,1}}() \n",
    "        \n",
    "        t+=1\n",
    "        convergenceCurve[t]=leaderScore\n",
    "        \n",
    "        #if (noChangeIter == noChangeAfterXIter)\n",
    "        #    convergenceCurve[t+1:maxIteration].=leaderScore\n",
    "        #    earlyStop = true\n",
    "        #    break\n",
    "        #end\n",
    "    end\n",
    "\n",
    "    # Return leader solution, leader solution's tour cost, leader convergence array, and early stop boolean flag\n",
    "    return(leaderWhale, leaderScore, convergenceCurve, earlyStop)\n",
    "end"
   ]
  },
  {
   "cell_type": "markdown",
   "metadata": {},
   "source": [
    "Run one instance of the DSWOA for a given TSP"
   ]
  },
  {
   "cell_type": "code",
   "execution_count": 10,
   "metadata": {},
   "outputs": [
    {
     "data": {
      "text/plain": [
       "runDSWOAOnce (generic function with 1 method)"
      ]
     },
     "execution_count": 10,
     "metadata": {},
     "output_type": "execute_result"
    }
   ],
   "source": [
    "# tourObject: A tour object instance\n",
    "function runDSWOAOnce(tourObject)\n",
    "    params = getParameters(tourObject)\n",
    "    bestPath, bestPathCost, convergePath, earlyStop = DSWOA(params[1], params[2], params[3])\n",
    "\n",
    "    # Return leader solution, leader solution's tour cost, leader convergence array, and early stop boolean flag\n",
    "    return bestPath, bestPathCost, convergePath, earlyStop\n",
    "end"
   ]
  },
  {
   "cell_type": "markdown",
   "metadata": {},
   "source": [
    "Run X instance of the DSWOA for a given TSP and find the mean and standard deviation in best tour cost"
   ]
  },
  {
   "cell_type": "code",
   "execution_count": 11,
   "metadata": {},
   "outputs": [
    {
     "data": {
      "text/plain": [
       "runDSWOAXTimeStats (generic function with 1 method)"
      ]
     },
     "execution_count": 11,
     "metadata": {},
     "output_type": "execute_result"
    }
   ],
   "source": [
    "# tourObject: A tour object instance\n",
    "# x: Number of DSWOA instances to execute\n",
    "function runDSWOAXTimeStats(tourObject, x)\n",
    "    params = getParameters(tourObject)\n",
    "    pathDistances=zeros(1, x)\n",
    "    bestPath = nothing\n",
    "    bestPathCost = Inf\n",
    "    pathCost = nothing\n",
    "    \n",
    "    # Find the path distances on X instances of the DSWOA\n",
    "    for i in 1:x\n",
    "        # Ignore convergence array and stop early flag\n",
    "        path, pathCost, ignore1, ignore2 = DSWOA(params[1], params[2], params[3])\n",
    "        \n",
    "        if (pathCost < bestPathCost)\n",
    "            bestPathCost = pathCost\n",
    "            bestPath = path\n",
    "        end\n",
    "        pathDistances[i] = pathCost\n",
    "    end\n",
    "    \n",
    "    # Calculate means and standard deviation (std)\n",
    "    mean = Statistics.mean(pathDistances)\n",
    "    std = Statistics.std(pathDistances, corrected=false) # Population Based std (aka divided by n and not n-1)\n",
    "    \n",
    "    # Return best solution, best solution's cost, mean leader solution tour cost, std leader solution tour cost\n",
    "    return (bestPath, bestPathCost, mean, std)\n",
    "end"
   ]
  },
  {
   "cell_type": "markdown",
   "metadata": {},
   "source": [
    "Print Helper Functions"
   ]
  },
  {
   "cell_type": "code",
   "execution_count": 12,
   "metadata": {},
   "outputs": [
    {
     "data": {
      "text/plain": [
       "printStatsX (generic function with 1 method)"
      ]
     },
     "execution_count": 12,
     "metadata": {},
     "output_type": "execute_result"
    }
   ],
   "source": [
    "# tourName: String variable containing the name of the desired TSP instance\n",
    "# trueBestCost: TSP instance's known best tour cost\n",
    "# dswoaBestCost: DSWOA's tour cost for the best found solution\n",
    "function printStatsOne(tourName, trueBestCost, dswoaBestCost)\n",
    "    println(\"Below are the performance results for the DSWOA on the TSPLIB Tour Instance $tourName :\")\n",
    "    println(\"True Optimal Tour Cost: $trueBestCost\")\n",
    "    println(\"DSWOA's Best Solution Tour Cost: $dswoaBestCost\")\n",
    "end\n",
    "\n",
    "# tourName: String variable containing the name of the desired TSP instance\n",
    "# trueBestCost: TSP instance's known best tour cost\n",
    "# dswoaBestCost: DSWOA's tour cost for the best found solution\n",
    "# mean: DSWOA mean leader solution tour cost\n",
    "# std: DSWOA standard deviation leader solution tour cost\n",
    "# x: Number of DSWOA instance executions\n",
    "function printStatsX(tourName, trueBestCost, dswoaBestCost, mean, std, x)\n",
    "    println(\"Below are the performance results for the DSWOA on the TSPLIB Tour Instance $tourName after $x executions :\")\n",
    "    println(\"Optimal Tour Cost: $trueBestCost\")\n",
    "    println(\"DSWOA Best Tour Cost: $dswoaBestCost\")\n",
    "    println(\"DSWOA Average Tour Cost: $mean\")\n",
    "    println(\"DSWOA Standard Deviation: $std\")\n",
    "end"
   ]
  },
  {
   "cell_type": "markdown",
   "metadata": {},
   "source": [
    "# Example: Eil51"
   ]
  },
  {
   "cell_type": "markdown",
   "metadata": {},
   "source": [
    "Single Instance of DSWOA"
   ]
  },
  {
   "cell_type": "code",
   "execution_count": 13,
   "metadata": {},
   "outputs": [
    {
     "name": "stdout",
     "output_type": "stream",
     "text": [
      "\n"
     ]
    }
   ],
   "source": [
    "# Get Tour Information\n",
    "# If not in the existing library, you can add the tour.\n",
    "# To accomplish this, add .tsp file to directory of tours\n",
    "# add optimal cost to the optimals.jl file. Then restart kernal\n",
    "curTour = getTSPTour(\"Eil51\")\n",
    "println()"
   ]
  },
  {
   "cell_type": "code",
   "execution_count": 14,
   "metadata": {},
   "outputs": [
    {
     "name": "stdout",
     "output_type": "stream",
     "text": [
      "Below are the performance results for the DSWOA on the TSPLIB Tour Instance eil51 :\n",
      "True Optimal Tour Cost: 426.0\n",
      "DSWOA's Best Solution Tour Cost: 426.0\n"
     ]
    }
   ],
   "source": [
    "#start = time()\n",
    "\n",
    "bestPath, bestPathCost, convergePath, earlyStop = runDSWOAOnce(curTour)\n",
    "printStatsOne(curTour.name, curTour.optimal, bestPathCost)\n",
    "\n",
    "#elapsed = time() - start\n",
    "\n",
    "#(minutes, seconds) = fldmod(elapsed, 60)\n",
    "#(hours, minutes) = fldmod(minutes, 60)\n",
    "\n",
    "#println()\n",
    "#@printf(\"%02d:%02d:%0.2f\", hours, minutes, seconds)"
   ]
  },
  {
   "cell_type": "markdown",
   "metadata": {},
   "source": [
    "Draw the best tour solution found from the previous DSWOA execution"
   ]
  },
  {
   "cell_type": "code",
   "execution_count": 15,
   "metadata": {},
   "outputs": [
    {
     "data": {
      "image/svg+xml": [
       "<?xml version=\"1.0\" encoding=\"utf-8\"?>\n",
       "<svg xmlns=\"http://www.w3.org/2000/svg\" xmlns:xlink=\"http://www.w3.org/1999/xlink\" width=\"900\" height=\"600\" viewBox=\"0 0 3600 2400\">\n",
       "<defs>\n",
       "  <clipPath id=\"clip7500\">\n",
       "    <rect x=\"0\" y=\"0\" width=\"3600\" height=\"2400\"/>\n",
       "  </clipPath>\n",
       "</defs>\n",
       "<path clip-path=\"url(#clip7500)\" d=\"\n",
       "M0 2400 L3600 2400 L3600 0 L0 0  Z\n",
       "  \" fill=\"#ffffff\" fill-rule=\"evenodd\" fill-opacity=\"1\"/>\n",
       "<defs>\n",
       "  <clipPath id=\"clip7501\">\n",
       "    <rect x=\"720\" y=\"0\" width=\"2521\" height=\"2400\"/>\n",
       "  </clipPath>\n",
       "</defs>\n",
       "<path clip-path=\"url(#clip7500)\" d=\"\n",
       "M86.9921 2321.01 L3552.76 2321.01 L3552.76 47.2441 L86.9921 47.2441  Z\n",
       "  \" fill=\"#ffffff\" fill-rule=\"evenodd\" fill-opacity=\"1\"/>\n",
       "<defs>\n",
       "  <clipPath id=\"clip7502\">\n",
       "    <rect x=\"86\" y=\"47\" width=\"3467\" height=\"2275\"/>\n",
       "  </clipPath>\n",
       "</defs>\n",
       "<polyline clip-path=\"url(#clip7500)\" style=\"stroke:#ffffff; stroke-width:4; stroke-opacity:1; fill:none\" points=\"\n",
       "  86.9921,2321.01 3552.76,2321.01 \n",
       "  \"/>\n",
       "<polyline clip-path=\"url(#clip7500)\" style=\"stroke:#ffffff; stroke-width:4; stroke-opacity:1; fill:none\" points=\"\n",
       "  86.9921,2321.01 86.9921,47.2441 \n",
       "  \"/>\n",
       "<polyline clip-path=\"url(#clip7502)\" style=\"stroke:#808080; stroke-width:12; stroke-opacity:1; fill:none\" points=\"\n",
       "  805.174,520.179 861.546,315.887 185.08,281.839 354.196,690.422 579.685,1030.91 297.824,1167.1 185.08,1609.73 466.941,1882.12 185.08,2256.66 636.058,2018.32 \n",
       "  1087.04,2120.46 1594.39,1950.22 1932.62,1916.17 2101.74,2120.46 2496.34,2120.46 3229.18,1950.22 2778.2,1745.93 2609.09,1507.59 2834.57,1337.34 3172.81,1541.64 \n",
       "  3341.92,1337.34 3060.06,1201.15 2834.57,1064.96 3398.3,1030.91 3172.81,826.616 2665.46,792.567 3116.43,486.13 3398.3,315.887 3454.67,111.596 2834.57,281.839 \n",
       "  2327.22,179.693 1988.99,111.596 1425.27,145.644 1650.76,349.936 2270.85,520.179 1988.99,690.422 2045.36,894.713 2270.85,1064.96 2439.97,1269.25 2158.11,1439.49 \n",
       "  1707.13,1711.88 1425.27,1677.83 1030.66,1575.68 861.546,1337.34 1312.52,1371.39 1650.76,1371.39 1707.13,1133.05 1594.39,1099 1594.39,826.616 1087.04,860.665 \n",
       "  1312.52,588.276 805.174,520.179 \n",
       "  \"/>\n",
       "<circle clip-path=\"url(#clip7502)\" cx=\"1988.99\" cy=\"690.422\" r=\"18\" fill=\"#cd0000\" fill-rule=\"evenodd\" fill-opacity=\"1\" stroke=\"#ffffff\" stroke-opacity=\"1\" stroke-width=\"4.8\"/>\n",
       "<circle clip-path=\"url(#clip7502)\" cx=\"2665.46\" cy=\"792.567\" r=\"18\" fill=\"#cd0000\" fill-rule=\"evenodd\" fill-opacity=\"1\" stroke=\"#ffffff\" stroke-opacity=\"1\" stroke-width=\"4.8\"/>\n",
       "<circle clip-path=\"url(#clip7502)\" cx=\"2834.57\" cy=\"281.839\" r=\"18\" fill=\"#cd0000\" fill-rule=\"evenodd\" fill-opacity=\"1\" stroke=\"#ffffff\" stroke-opacity=\"1\" stroke-width=\"4.8\"/>\n",
       "<circle clip-path=\"url(#clip7502)\" cx=\"1030.66\" cy=\"1575.68\" r=\"18\" fill=\"#cd0000\" fill-rule=\"evenodd\" fill-opacity=\"1\" stroke=\"#ffffff\" stroke-opacity=\"1\" stroke-width=\"4.8\"/>\n",
       "<circle clip-path=\"url(#clip7502)\" cx=\"2158.11\" cy=\"1439.49\" r=\"18\" fill=\"#cd0000\" fill-rule=\"evenodd\" fill-opacity=\"1\" stroke=\"#ffffff\" stroke-opacity=\"1\" stroke-width=\"4.8\"/>\n",
       "<circle clip-path=\"url(#clip7502)\" cx=\"1087.04\" cy=\"860.665\" r=\"18\" fill=\"#cd0000\" fill-rule=\"evenodd\" fill-opacity=\"1\" stroke=\"#ffffff\" stroke-opacity=\"1\" stroke-width=\"4.8\"/>\n",
       "<circle clip-path=\"url(#clip7502)\" cx=\"861.546\" cy=\"315.887\" r=\"18\" fill=\"#cd0000\" fill-rule=\"evenodd\" fill-opacity=\"1\" stroke=\"#ffffff\" stroke-opacity=\"1\" stroke-width=\"4.8\"/>\n",
       "<circle clip-path=\"url(#clip7502)\" cx=\"1650.76\" cy=\"349.936\" r=\"18\" fill=\"#cd0000\" fill-rule=\"evenodd\" fill-opacity=\"1\" stroke=\"#ffffff\" stroke-opacity=\"1\" stroke-width=\"4.8\"/>\n",
       "<circle clip-path=\"url(#clip7502)\" cx=\"2834.57\" cy=\"1337.34\" r=\"18\" fill=\"#cd0000\" fill-rule=\"evenodd\" fill-opacity=\"1\" stroke=\"#ffffff\" stroke-opacity=\"1\" stroke-width=\"4.8\"/>\n",
       "<circle clip-path=\"url(#clip7502)\" cx=\"2778.2\" cy=\"1745.93\" r=\"18\" fill=\"#cd0000\" fill-rule=\"evenodd\" fill-opacity=\"1\" stroke=\"#ffffff\" stroke-opacity=\"1\" stroke-width=\"4.8\"/>\n",
       "<circle clip-path=\"url(#clip7502)\" cx=\"2270.85\" cy=\"1064.96\" r=\"18\" fill=\"#cd0000\" fill-rule=\"evenodd\" fill-opacity=\"1\" stroke=\"#ffffff\" stroke-opacity=\"1\" stroke-width=\"4.8\"/>\n",
       "<circle clip-path=\"url(#clip7502)\" cx=\"1650.76\" cy=\"1371.39\" r=\"18\" fill=\"#cd0000\" fill-rule=\"evenodd\" fill-opacity=\"1\" stroke=\"#ffffff\" stroke-opacity=\"1\" stroke-width=\"4.8\"/>\n",
       "<circle clip-path=\"url(#clip7502)\" cx=\"185.08\" cy=\"1609.73\" r=\"18\" fill=\"#cd0000\" fill-rule=\"evenodd\" fill-opacity=\"1\" stroke=\"#ffffff\" stroke-opacity=\"1\" stroke-width=\"4.8\"/>\n",
       "<circle clip-path=\"url(#clip7502)\" cx=\"579.685\" cy=\"1030.91\" r=\"18\" fill=\"#cd0000\" fill-rule=\"evenodd\" fill-opacity=\"1\" stroke=\"#ffffff\" stroke-opacity=\"1\" stroke-width=\"4.8\"/>\n",
       "<circle clip-path=\"url(#clip7502)\" cx=\"1932.62\" cy=\"1916.17\" r=\"18\" fill=\"#cd0000\" fill-rule=\"evenodd\" fill-opacity=\"1\" stroke=\"#ffffff\" stroke-opacity=\"1\" stroke-width=\"4.8\"/>\n",
       "<circle clip-path=\"url(#clip7502)\" cx=\"2834.57\" cy=\"1064.96\" r=\"18\" fill=\"#cd0000\" fill-rule=\"evenodd\" fill-opacity=\"1\" stroke=\"#ffffff\" stroke-opacity=\"1\" stroke-width=\"4.8\"/>\n",
       "<circle clip-path=\"url(#clip7502)\" cx=\"1425.27\" cy=\"1677.83\" r=\"18\" fill=\"#cd0000\" fill-rule=\"evenodd\" fill-opacity=\"1\" stroke=\"#ffffff\" stroke-opacity=\"1\" stroke-width=\"4.8\"/>\n",
       "<circle clip-path=\"url(#clip7502)\" cx=\"861.546\" cy=\"1337.34\" r=\"18\" fill=\"#cd0000\" fill-rule=\"evenodd\" fill-opacity=\"1\" stroke=\"#ffffff\" stroke-opacity=\"1\" stroke-width=\"4.8\"/>\n",
       "<circle clip-path=\"url(#clip7502)\" cx=\"636.058\" cy=\"2018.32\" r=\"18\" fill=\"#cd0000\" fill-rule=\"evenodd\" fill-opacity=\"1\" stroke=\"#ffffff\" stroke-opacity=\"1\" stroke-width=\"4.8\"/>\n",
       "<circle clip-path=\"url(#clip7502)\" cx=\"3116.43\" cy=\"486.13\" r=\"18\" fill=\"#cd0000\" fill-rule=\"evenodd\" fill-opacity=\"1\" stroke=\"#ffffff\" stroke-opacity=\"1\" stroke-width=\"4.8\"/>\n",
       "<circle clip-path=\"url(#clip7502)\" cx=\"3398.3\" cy=\"1030.91\" r=\"18\" fill=\"#cd0000\" fill-rule=\"evenodd\" fill-opacity=\"1\" stroke=\"#ffffff\" stroke-opacity=\"1\" stroke-width=\"4.8\"/>\n",
       "<circle clip-path=\"url(#clip7502)\" cx=\"2270.85\" cy=\"520.179\" r=\"18\" fill=\"#cd0000\" fill-rule=\"evenodd\" fill-opacity=\"1\" stroke=\"#ffffff\" stroke-opacity=\"1\" stroke-width=\"4.8\"/>\n",
       "<circle clip-path=\"url(#clip7502)\" cx=\"805.174\" cy=\"520.179\" r=\"18\" fill=\"#cd0000\" fill-rule=\"evenodd\" fill-opacity=\"1\" stroke=\"#ffffff\" stroke-opacity=\"1\" stroke-width=\"4.8\"/>\n",
       "<circle clip-path=\"url(#clip7502)\" cx=\"354.196\" cy=\"690.422\" r=\"18\" fill=\"#cd0000\" fill-rule=\"evenodd\" fill-opacity=\"1\" stroke=\"#ffffff\" stroke-opacity=\"1\" stroke-width=\"4.8\"/>\n",
       "<circle clip-path=\"url(#clip7502)\" cx=\"297.824\" cy=\"1167.1\" r=\"18\" fill=\"#cd0000\" fill-rule=\"evenodd\" fill-opacity=\"1\" stroke=\"#ffffff\" stroke-opacity=\"1\" stroke-width=\"4.8\"/>\n",
       "<circle clip-path=\"url(#clip7502)\" cx=\"1425.27\" cy=\"145.644\" r=\"18\" fill=\"#cd0000\" fill-rule=\"evenodd\" fill-opacity=\"1\" stroke=\"#ffffff\" stroke-opacity=\"1\" stroke-width=\"4.8\"/>\n",
       "<circle clip-path=\"url(#clip7502)\" cx=\"1594.39\" cy=\"826.616\" r=\"18\" fill=\"#cd0000\" fill-rule=\"evenodd\" fill-opacity=\"1\" stroke=\"#ffffff\" stroke-opacity=\"1\" stroke-width=\"4.8\"/>\n",
       "<circle clip-path=\"url(#clip7502)\" cx=\"2327.22\" cy=\"179.693\" r=\"18\" fill=\"#cd0000\" fill-rule=\"evenodd\" fill-opacity=\"1\" stroke=\"#ffffff\" stroke-opacity=\"1\" stroke-width=\"4.8\"/>\n",
       "<circle clip-path=\"url(#clip7502)\" cx=\"3172.81\" cy=\"826.616\" r=\"18\" fill=\"#cd0000\" fill-rule=\"evenodd\" fill-opacity=\"1\" stroke=\"#ffffff\" stroke-opacity=\"1\" stroke-width=\"4.8\"/>\n",
       "<circle clip-path=\"url(#clip7502)\" cx=\"3172.81\" cy=\"1541.64\" r=\"18\" fill=\"#cd0000\" fill-rule=\"evenodd\" fill-opacity=\"1\" stroke=\"#ffffff\" stroke-opacity=\"1\" stroke-width=\"4.8\"/>\n",
       "<circle clip-path=\"url(#clip7502)\" cx=\"1988.99\" cy=\"111.596\" r=\"18\" fill=\"#cd0000\" fill-rule=\"evenodd\" fill-opacity=\"1\" stroke=\"#ffffff\" stroke-opacity=\"1\" stroke-width=\"4.8\"/>\n",
       "<circle clip-path=\"url(#clip7502)\" cx=\"2045.36\" cy=\"894.713\" r=\"18\" fill=\"#cd0000\" fill-rule=\"evenodd\" fill-opacity=\"1\" stroke=\"#ffffff\" stroke-opacity=\"1\" stroke-width=\"4.8\"/>\n",
       "<circle clip-path=\"url(#clip7502)\" cx=\"2496.34\" cy=\"2120.46\" r=\"18\" fill=\"#cd0000\" fill-rule=\"evenodd\" fill-opacity=\"1\" stroke=\"#ffffff\" stroke-opacity=\"1\" stroke-width=\"4.8\"/>\n",
       "<circle clip-path=\"url(#clip7502)\" cx=\"3341.92\" cy=\"1337.34\" r=\"18\" fill=\"#cd0000\" fill-rule=\"evenodd\" fill-opacity=\"1\" stroke=\"#ffffff\" stroke-opacity=\"1\" stroke-width=\"4.8\"/>\n",
       "<circle clip-path=\"url(#clip7502)\" cx=\"3398.3\" cy=\"315.887\" r=\"18\" fill=\"#cd0000\" fill-rule=\"evenodd\" fill-opacity=\"1\" stroke=\"#ffffff\" stroke-opacity=\"1\" stroke-width=\"4.8\"/>\n",
       "<circle clip-path=\"url(#clip7502)\" cx=\"3454.67\" cy=\"111.596\" r=\"18\" fill=\"#cd0000\" fill-rule=\"evenodd\" fill-opacity=\"1\" stroke=\"#ffffff\" stroke-opacity=\"1\" stroke-width=\"4.8\"/>\n",
       "<circle clip-path=\"url(#clip7502)\" cx=\"1707.13\" cy=\"1711.88\" r=\"18\" fill=\"#cd0000\" fill-rule=\"evenodd\" fill-opacity=\"1\" stroke=\"#ffffff\" stroke-opacity=\"1\" stroke-width=\"4.8\"/>\n",
       "<circle clip-path=\"url(#clip7502)\" cx=\"2439.97\" cy=\"1269.25\" r=\"18\" fill=\"#cd0000\" fill-rule=\"evenodd\" fill-opacity=\"1\" stroke=\"#ffffff\" stroke-opacity=\"1\" stroke-width=\"4.8\"/>\n",
       "<circle clip-path=\"url(#clip7502)\" cx=\"3229.18\" cy=\"1950.22\" r=\"18\" fill=\"#cd0000\" fill-rule=\"evenodd\" fill-opacity=\"1\" stroke=\"#ffffff\" stroke-opacity=\"1\" stroke-width=\"4.8\"/>\n",
       "<circle clip-path=\"url(#clip7502)\" cx=\"185.08\" cy=\"2256.66\" r=\"18\" fill=\"#cd0000\" fill-rule=\"evenodd\" fill-opacity=\"1\" stroke=\"#ffffff\" stroke-opacity=\"1\" stroke-width=\"4.8\"/>\n",
       "<circle clip-path=\"url(#clip7502)\" cx=\"466.941\" cy=\"1882.12\" r=\"18\" fill=\"#cd0000\" fill-rule=\"evenodd\" fill-opacity=\"1\" stroke=\"#ffffff\" stroke-opacity=\"1\" stroke-width=\"4.8\"/>\n",
       "<circle clip-path=\"url(#clip7502)\" cx=\"1087.04\" cy=\"2120.46\" r=\"18\" fill=\"#cd0000\" fill-rule=\"evenodd\" fill-opacity=\"1\" stroke=\"#ffffff\" stroke-opacity=\"1\" stroke-width=\"4.8\"/>\n",
       "<circle clip-path=\"url(#clip7502)\" cx=\"185.08\" cy=\"281.839\" r=\"18\" fill=\"#cd0000\" fill-rule=\"evenodd\" fill-opacity=\"1\" stroke=\"#ffffff\" stroke-opacity=\"1\" stroke-width=\"4.8\"/>\n",
       "<circle clip-path=\"url(#clip7502)\" cx=\"1594.39\" cy=\"1950.22\" r=\"18\" fill=\"#cd0000\" fill-rule=\"evenodd\" fill-opacity=\"1\" stroke=\"#ffffff\" stroke-opacity=\"1\" stroke-width=\"4.8\"/>\n",
       "<circle clip-path=\"url(#clip7502)\" cx=\"2101.74\" cy=\"2120.46\" r=\"18\" fill=\"#cd0000\" fill-rule=\"evenodd\" fill-opacity=\"1\" stroke=\"#ffffff\" stroke-opacity=\"1\" stroke-width=\"4.8\"/>\n",
       "<circle clip-path=\"url(#clip7502)\" cx=\"1707.13\" cy=\"1133.05\" r=\"18\" fill=\"#cd0000\" fill-rule=\"evenodd\" fill-opacity=\"1\" stroke=\"#ffffff\" stroke-opacity=\"1\" stroke-width=\"4.8\"/>\n",
       "<circle clip-path=\"url(#clip7502)\" cx=\"1312.52\" cy=\"1371.39\" r=\"18\" fill=\"#cd0000\" fill-rule=\"evenodd\" fill-opacity=\"1\" stroke=\"#ffffff\" stroke-opacity=\"1\" stroke-width=\"4.8\"/>\n",
       "<circle clip-path=\"url(#clip7502)\" cx=\"1312.52\" cy=\"588.276\" r=\"18\" fill=\"#cd0000\" fill-rule=\"evenodd\" fill-opacity=\"1\" stroke=\"#ffffff\" stroke-opacity=\"1\" stroke-width=\"4.8\"/>\n",
       "<circle clip-path=\"url(#clip7502)\" cx=\"2609.09\" cy=\"1507.59\" r=\"18\" fill=\"#cd0000\" fill-rule=\"evenodd\" fill-opacity=\"1\" stroke=\"#ffffff\" stroke-opacity=\"1\" stroke-width=\"4.8\"/>\n",
       "<circle clip-path=\"url(#clip7502)\" cx=\"3060.06\" cy=\"1201.15\" r=\"18\" fill=\"#cd0000\" fill-rule=\"evenodd\" fill-opacity=\"1\" stroke=\"#ffffff\" stroke-opacity=\"1\" stroke-width=\"4.8\"/>\n",
       "<circle clip-path=\"url(#clip7502)\" cx=\"1594.39\" cy=\"1099\" r=\"18\" fill=\"#cd0000\" fill-rule=\"evenodd\" fill-opacity=\"1\" stroke=\"#ffffff\" stroke-opacity=\"1\" stroke-width=\"4.8\"/>\n",
       "</svg>\n"
      ]
     },
     "execution_count": 15,
     "metadata": {},
     "output_type": "execute_result"
    }
   ],
   "source": [
    "plot([curTour.nodes[bestPath,1];curTour.nodes[bestPath[1],1]], [curTour.nodes[bestPath,2];curTour.nodes[bestPath[1],2]], size=(900, 600), linecolor=:gray, linewidth=3, legend=false, axis=nothing, foreground_color_subplot=colorant\"white\")\n",
    "scatter!(curTour.nodes[:,1], curTour.nodes[:,2], size=(900, 600), markercolor=:red3, markersize=5, legend=false, axis=nothing, foreground_color_subplot=colorant\"white\")\n",
    "#savefig(\"Eil51.png\")"
   ]
  },
  {
   "cell_type": "markdown",
   "metadata": {},
   "source": [
    "20 Instances of DSWOA"
   ]
  },
  {
   "cell_type": "code",
   "execution_count": 16,
   "metadata": {},
   "outputs": [
    {
     "name": "stdout",
     "output_type": "stream",
     "text": [
      "Below are the performance results for the DSWOA on the TSPLIB Tour Instance eil51 after 20 executions :\n",
      "Optimal Tour Cost: 426.0\n",
      "DSWOA Best Tour Cost: 426.0\n",
      "DSWOA Average Tour Cost: 428.55\n",
      "DSWOA Standard Deviation: 2.5782746168707473\n"
     ]
    }
   ],
   "source": [
    "#start = time()\n",
    "\n",
    "bestPath, bestPathCost, mean, std = runDSWOAXTimeStats(curTour, 20)\n",
    "printStatsX(curTour.name, curTour.optimal, bestPathCost, mean, std, 20)\n",
    "\n",
    "#elapsed = time() - start\n",
    "\n",
    "#(minutes, seconds) = fldmod(elapsed, 60)\n",
    "#(hours, minutes) = fldmod(minutes, 60)\n",
    "\n",
    "#println()\n",
    "#@printf(\"%02d:%02d:%0.2f\", hours, minutes, seconds)"
   ]
  }
 ],
 "metadata": {
  "kernelspec": {
   "display_name": "Julia 1.4.2",
   "language": "julia",
   "name": "julia-1.4"
  },
  "language_info": {
   "file_extension": ".jl",
   "mimetype": "application/julia",
   "name": "julia",
   "version": "1.4.2"
  }
 },
 "nbformat": 4,
 "nbformat_minor": 4
}
